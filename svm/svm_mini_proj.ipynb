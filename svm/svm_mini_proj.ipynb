{
 "cells": [
  {
   "cell_type": "code",
   "execution_count": 1,
   "metadata": {
    "collapsed": false
   },
   "outputs": [
    {
     "name": "stdout",
     "output_type": "stream",
     "text": [
      "no. of Chris training emails: 7936\n",
      "no. of Sara training emails: 7884\n"
     ]
    }
   ],
   "source": [
    "import sys\n",
    "from time import time\n",
    "sys.path.append(\"../tools/\")\n",
    "from email_preprocess import preprocess\n",
    "\n",
    "\n",
    "### features_train and features_test are the features for the training\n",
    "### and testing datasets, respectively\n",
    "### labels_train and labels_test are the corresponding item labels\n",
    "features_train, features_test, labels_train, labels_test = preprocess()\n"
   ]
  },
  {
   "cell_type": "code",
   "execution_count": 6,
   "metadata": {
    "collapsed": true
   },
   "outputs": [],
   "source": [
    "from sklearn.svm import SVC\n",
    "from sklearn.metrics import accuracy_score"
   ]
  },
  {
   "cell_type": "code",
   "execution_count": 3,
   "metadata": {
    "collapsed": true
   },
   "outputs": [],
   "source": [
    "clf = SVC(kernel='linear')\n",
    "\n",
    "tic = time()\n",
    "clf.fit(features_train, labels_train)\n",
    "toc = time()\n",
    "print \"training time:\", round(toc-tic, 3), \"s\""
   ]
  },
  {
   "cell_type": "code",
   "execution_count": null,
   "metadata": {
    "collapsed": true
   },
   "outputs": [],
   "source": [
    "tic = time()\n",
    "pred= clf.predict(features_test)\n",
    "toc = time()\n",
    "print \"testing time:\", round(toc-tic, 3), \"s\""
   ]
  },
  {
   "cell_type": "code",
   "execution_count": 4,
   "metadata": {
    "collapsed": false
   },
   "outputs": [
    {
     "name": "stdout",
     "output_type": "stream",
     "text": [
      "0.984072810011\n"
     ]
    }
   ],
   "source": [
    "\n",
    "acc = accuracy_score(pred, labels_test)\n",
    "print acc"
   ]
  },
  {
   "cell_type": "markdown",
   "metadata": {},
   "source": [
    "### smaller training set"
   ]
  },
  {
   "cell_type": "code",
   "execution_count": 5,
   "metadata": {
    "collapsed": true
   },
   "outputs": [],
   "source": [
    "features_train_small = features_train[:len(features_train)/100] \n",
    "labels_train_small = labels_train[:len(labels_train)/100] "
   ]
  },
  {
   "cell_type": "code",
   "execution_count": 7,
   "metadata": {
    "collapsed": false
   },
   "outputs": [
    {
     "name": "stdout",
     "output_type": "stream",
     "text": [
      "training time: 0.063 s\n",
      "testing time: 0.651 s\n",
      "0.884527872582\n"
     ]
    }
   ],
   "source": [
    "clf = SVC(kernel='linear')\n",
    "\n",
    "tic = time()\n",
    "clf.fit(features_train_small, labels_train_small)\n",
    "toc = time()\n",
    "print \"training time:\", round(toc-tic, 3), \"s\"\n",
    "tic = time()\n",
    "pred= clf.predict(features_test)\n",
    "toc = time()\n",
    "print \"testing time:\", round(toc-tic, 3), \"s\"\n",
    "acc = accuracy_score(pred, labels_test)\n",
    "print acc"
   ]
  },
  {
   "cell_type": "markdown",
   "metadata": {},
   "source": [
    "### small training set with RBF kernel"
   ]
  },
  {
   "cell_type": "code",
   "execution_count": 9,
   "metadata": {
    "collapsed": false
   },
   "outputs": [
    {
     "name": "stdout",
     "output_type": "stream",
     "text": [
      "training time: 0.073 s\n",
      "testing time: 0.733 s\n",
      "0.616040955631\n"
     ]
    }
   ],
   "source": [
    "clf = SVC(kernel='rbf')\n",
    "\n",
    "tic = time()\n",
    "clf.fit(features_train_small, labels_train_small)\n",
    "toc = time()\n",
    "print \"training time:\", round(toc-tic, 3), \"s\"\n",
    "tic = time()\n",
    "pred= clf.predict(features_test)\n",
    "toc = time()\n",
    "print \"testing time:\", round(toc-tic, 3), \"s\"\n",
    "acc = accuracy_score(pred, labels_test)\n",
    "print acc"
   ]
  },
  {
   "cell_type": "markdown",
   "metadata": {},
   "source": [
    "### small + RBF + varying C"
   ]
  },
  {
   "cell_type": "code",
   "execution_count": 17,
   "metadata": {
    "collapsed": true
   },
   "outputs": [],
   "source": [
    "def run_rbf_c(features_train_small, labels_train_small, features_test, labels_test, input_c):\n",
    "    \n",
    "    print \"test C size : \" + str(input_c)\n",
    "    \n",
    "    clf = SVC(kernel='rbf', C=input_c)\n",
    "    tic = time()\n",
    "    clf.fit(features_train_small, labels_train_small)\n",
    "    toc = time()\n",
    "    print \"training time:\", round(toc-tic, 3), \"s\"\n",
    "    tic = time()\n",
    "    pred= clf.predict(features_test)\n",
    "    toc = time()\n",
    "    print \"testing time:\", round(toc-tic, 3), \"s\"\n",
    "    acc = accuracy_score(pred, labels_test)\n",
    "    print acc\n",
    "    print \"\\n\""
   ]
  },
  {
   "cell_type": "code",
   "execution_count": 18,
   "metadata": {
    "collapsed": false
   },
   "outputs": [
    {
     "name": "stdout",
     "output_type": "stream",
     "text": [
      "test C size : 10000\n",
      "training time: 0.067 s\n",
      "testing time: 0.592 s\n",
      "0.892491467577\n",
      "\n",
      "\n",
      "test C size : 1000\n",
      "training time: 0.066 s\n",
      "testing time: 0.743 s\n",
      "0.821387940842\n",
      "\n",
      "\n",
      "test C size : 10\n",
      "training time: 0.071 s\n",
      "testing time: 0.78 s\n",
      "0.616040955631\n",
      "\n",
      "\n",
      "test C size : 100\n",
      "training time: 0.069 s\n",
      "testing time: 0.795 s\n",
      "0.616040955631\n",
      "\n",
      "\n"
     ]
    }
   ],
   "source": [
    "for i in {10, 100, 1000, 10000}:\n",
    "    run_rbf_c(features_train_small, labels_train_small, features_test, labels_test, i)"
   ]
  },
  {
   "cell_type": "markdown",
   "metadata": {},
   "source": [
    "### full training set + RBF + C=10000"
   ]
  },
  {
   "cell_type": "code",
   "execution_count": 32,
   "metadata": {
    "collapsed": false
   },
   "outputs": [
    {
     "name": "stdout",
     "output_type": "stream",
     "text": [
      "training time: 71.337 s\n",
      "testing time: 7.16 s\n",
      "0.990898748578\n"
     ]
    }
   ],
   "source": [
    "clf = SVC(kernel='rbf', C=10000)\n",
    "\n",
    "tic = time()\n",
    "clf.fit(features_train, labels_train)\n",
    "toc = time()\n",
    "print \"training time:\", round(toc-tic, 3), \"s\"\n",
    "tic = time()\n",
    "pred= clf.predict(features_test)\n",
    "toc = time()\n",
    "print \"testing time:\", round(toc-tic, 3), \"s\"\n",
    "acc = accuracy_score(pred, labels_test)\n",
    "print acc"
   ]
  },
  {
   "cell_type": "code",
   "execution_count": 33,
   "metadata": {
    "collapsed": false
   },
   "outputs": [
    {
     "data": {
      "text/plain": [
       "numpy.ndarray"
      ]
     },
     "execution_count": 33,
     "metadata": {},
     "output_type": "execute_result"
    }
   ],
   "source": [
    "type(pred)"
   ]
  },
  {
   "cell_type": "code",
   "execution_count": 34,
   "metadata": {
    "collapsed": false
   },
   "outputs": [
    {
     "data": {
      "text/plain": [
       "Counter({0: 881, 1: 877})"
      ]
     },
     "execution_count": 34,
     "metadata": {},
     "output_type": "execute_result"
    }
   ],
   "source": [
    "import collections\n",
    "collections.Counter(pred)"
   ]
  },
  {
   "cell_type": "markdown",
   "metadata": {},
   "source": [
    "### small training set + rbf + c=10000"
   ]
  },
  {
   "cell_type": "code",
   "execution_count": 21,
   "metadata": {
    "collapsed": false
   },
   "outputs": [
    {
     "name": "stdout",
     "output_type": "stream",
     "text": [
      "training time: 0.067 s\n",
      "testing time: 0.604 s\n",
      "0.892491467577\n"
     ]
    }
   ],
   "source": [
    "clf = SVC(kernel='rbf', C=10000)\n",
    "\n",
    "\n",
    "tic = time()\n",
    "clf.fit(features_train_small, labels_train_small)\n",
    "toc = time()\n",
    "print \"training time:\", round(toc-tic, 3), \"s\"\n",
    "tic = time()\n",
    "pred= clf.predict(features_test)\n",
    "toc = time()\n",
    "print \"testing time:\", round(toc-tic, 3), \"s\"\n",
    "acc = accuracy_score(pred, labels_test)\n",
    "print acc\n",
    "\n"
   ]
  },
  {
   "cell_type": "code",
   "execution_count": 31,
   "metadata": {
    "collapsed": false
   },
   "outputs": [
    {
     "data": {
      "text/plain": [
       "1"
      ]
     },
     "execution_count": 31,
     "metadata": {},
     "output_type": "execute_result"
    }
   ],
   "source": [
    "pred[10]"
   ]
  },
  {
   "cell_type": "code",
   "execution_count": 30,
   "metadata": {
    "collapsed": false
   },
   "outputs": [
    {
     "data": {
      "text/plain": [
       "0"
      ]
     },
     "execution_count": 30,
     "metadata": {},
     "output_type": "execute_result"
    }
   ],
   "source": [
    "pred[26]"
   ]
  },
  {
   "cell_type": "code",
   "execution_count": 29,
   "metadata": {
    "collapsed": false
   },
   "outputs": [
    {
     "data": {
      "text/plain": [
       "1"
      ]
     },
     "execution_count": 29,
     "metadata": {},
     "output_type": "execute_result"
    }
   ],
   "source": [
    "pred[50]"
   ]
  }
 ],
 "metadata": {
  "kernelspec": {
   "display_name": "Python 2",
   "language": "python",
   "name": "python2"
  },
  "language_info": {
   "codemirror_mode": {
    "name": "ipython",
    "version": 2
   },
   "file_extension": ".py",
   "mimetype": "text/x-python",
   "name": "python",
   "nbconvert_exporter": "python",
   "pygments_lexer": "ipython2",
   "version": "2.7.11"
  }
 },
 "nbformat": 4,
 "nbformat_minor": 0
}
