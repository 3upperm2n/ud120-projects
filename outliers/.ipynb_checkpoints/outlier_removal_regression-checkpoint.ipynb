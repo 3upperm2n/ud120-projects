{
 "cells": [
  {
   "cell_type": "code",
   "execution_count": 3,
   "metadata": {
    "collapsed": true
   },
   "outputs": [],
   "source": [
    "import random\n",
    "import numpy\n",
    "import matplotlib.pyplot as plt\n",
    "import pickle\n",
    "\n",
    "# import sys\n",
    "# sys.path.append(\"./\")\n",
    "from outlier_cleaner import outlierCleaner\n"
   ]
  },
  {
   "cell_type": "code",
   "execution_count": 8,
   "metadata": {
    "collapsed": true
   },
   "outputs": [],
   "source": [
    "\n",
    "### load up some practice data with outliers in it\n",
    "ages = pickle.load( open(\"practice_outliers_ages.pkl\", \"r\") )\n",
    "net_worths = pickle.load( open(\"practice_outliers_net_worths.pkl\", \"r\") )\n",
    "\n",
    "\n",
    "\n",
    "### ages and net_worths need to be reshaped into 2D numpy arrays\n",
    "### second argument of reshape command is a tuple of integers: (n_rows, n_columns)\n",
    "### by convention, n_rows is the number of data points\n",
    "### and n_columns is the number of features\n",
    "ages       = numpy.reshape( numpy.array(ages), (len(ages), 1))\n",
    "net_worths = numpy.reshape( numpy.array(net_worths), (len(net_worths), 1))\n",
    "from sklearn.cross_validation import train_test_split\n",
    "ages_train, ages_test, net_worths_train, net_worths_test = train_test_split(ages, net_worths, test_size=0.1, random_state=42)\n"
   ]
  },
  {
   "cell_type": "code",
   "execution_count": 9,
   "metadata": {
    "collapsed": false
   },
   "outputs": [
    {
     "name": "stdout",
     "output_type": "stream",
     "text": [
      "[[ 5.07793064]]\n",
      "[ 25.21002155]\n",
      "score on test data\n",
      "0.878262470366\n"
     ]
    }
   ],
   "source": [
    "\n",
    "### fill in a regression here!  Name the regression object reg so that\n",
    "### the plotting code below works, and you can see what your regression looks like\n",
    "\n",
    "\n",
    "from sklearn.linear_model import LinearRegression\n",
    "reg = LinearRegression()\n",
    "reg.fit(ages_train, net_worths_train)\n",
    "\n",
    "print reg.coef_\n",
    "print reg.intercept_\n",
    "\n",
    "\n",
    "print \"score on test data\"\n",
    "print reg.score(ages_test, net_worths_test)\n",
    "\n",
    "\n",
    "\n",
    "\n",
    "try:\n",
    "    plt.plot(ages, reg.predict(ages), color=\"blue\")\n",
    "except NameError:\n",
    "    pass\n",
    "plt.scatter(ages, net_worths)\n",
    "plt.show()\n"
   ]
  },
  {
   "cell_type": "code",
   "execution_count": 10,
   "metadata": {
    "collapsed": true
   },
   "outputs": [],
   "source": [
    "### identify and remove the most outlier-y points\n",
    "cleaned_data = []\n",
    "\n",
    "predictions = reg.predict(ages_train)\n",
    "\n",
    "  # rerr = np.subtract(predictions, net_worths)\n",
    "    # rerr = np.square(rerr)\n",
    "rerr = numpy.subtract(predictions, net_worths_train)\n",
    "rerr = numpy.square(rerr)"
   ]
  },
  {
   "cell_type": "code",
   "execution_count": 12,
   "metadata": {
    "collapsed": false
   },
   "outputs": [],
   "source": [
    "\n",
    "#     print rerr\n",
    "tmp = numpy.concatenate((ages_train, net_worths_train), axis=1)\n",
    "#     print tmp\n",
    "tmp = numpy.concatenate((tmp, rerr), axis=1)\n",
    "#     print tmp"
   ]
  },
  {
   "cell_type": "code",
   "execution_count": 17,
   "metadata": {
    "collapsed": false
   },
   "outputs": [
    {
     "name": "stdout",
     "output_type": "stream",
     "text": [
      "90\n"
     ]
    }
   ],
   "source": [
    "\n",
    "    \n",
    "tup_tmp = tuple(map(tuple, tmp))\n",
    "#     print tup_tmp\n",
    "# sort the tup_tmp according to the error\n",
    "# http://stackoverflow.com/questions/10695139/sort-a-list-of-tuples-by-2nd-item-integer-value\n",
    "new_tup_tmp = sorted(tup_tmp, key=lambda x: x[2])\n",
    "print len(new_tup_tmp)"
   ]
  },
  {
   "cell_type": "code",
   "execution_count": 19,
   "metadata": {
    "collapsed": false
   },
   "outputs": [],
   "source": [
    "# sorted in increasing order, extract the 90%\n",
    "cleaned_data = new_tup_tmp[: (int)(len(new_tup_tmp) * 0.9)]    "
   ]
  },
  {
   "cell_type": "code",
   "execution_count": 20,
   "metadata": {
    "collapsed": false
   },
   "outputs": [
    {
     "name": "stdout",
     "output_type": "stream",
     "text": [
      "[[ 6.36859481]]\n"
     ]
    }
   ],
   "source": [
    "\n",
    "# try:\n",
    "#     rerr = numpy.subtract(predictions, net_worths_train)\n",
    "#     rerr = numpy.square(rerr)\n",
    "# #     print rerr\n",
    "#     tmp = numpy.concatenate((ages_train, net_worths_train), axis=1)\n",
    "# #     print tmp\n",
    "#     tmp = numpy.concatenate((tmp, rerr), axis=1)\n",
    "# #     print tmp\n",
    "    \n",
    "#     tup_tmp = tuple(map(tuple, tmp))\n",
    "# #     print tup_tmp\n",
    "\n",
    "#      # sort the tup_tmp according to the error\n",
    "#     # http://stackoverflow.com/questions/10695139/sort-a-list-of-tuples-by-2nd-item-integer-value\n",
    "#     new_tup_tmp = sorted(tup_tmp, key=lambda x: x[2])\n",
    "# #     print new_tup_tmp\n",
    "#     print new_tup_tmp[:2]\n",
    "    \n",
    "    \n",
    "#     print \"predictions length : \"\n",
    "#     print len(predictions)\n",
    "#     print type(predictions)\n",
    "#     print type(net_worths_train)\n",
    "#     print predictions\n",
    "#     print net_worths_train\n",
    "    \n",
    "    \n",
    "#     cleaned_data = outlierCleaner( predictions, ages_train, net_worths_train )\n",
    "# except NameError:\n",
    "#     print \"your regression object doesn't exist, or isn't name reg\"\n",
    "#     print \"can't make predictions to use in identifying outliers\"\n",
    "\n",
    "    \n",
    "    \n",
    "### only run this code if cleaned_data is returning data\n",
    "if len(cleaned_data) > 0:\n",
    "    ages, net_worths, errors = zip(*cleaned_data)\n",
    "    ages       = numpy.reshape( numpy.array(ages), (len(ages), 1))\n",
    "    net_worths = numpy.reshape( numpy.array(net_worths), (len(net_worths), 1))\n",
    "\n",
    "    ### refit your cleaned data!\n",
    "    try:\n",
    "        reg.fit(ages, net_worths)\n",
    "        print reg.coef_\n",
    "        plt.plot(ages, reg.predict(ages), color=\"blue\")\n",
    "    except NameError:\n",
    "        print \"you don't seem to have regression imported/created,\"\n",
    "        print \"   or else your regression object isn't named reg\"\n",
    "        print \"   either way, only draw the scatter plot of the cleaned data\"\n",
    "    plt.scatter(ages, net_worths)\n",
    "    plt.xlabel(\"ages\")\n",
    "    plt.ylabel(\"net worths\")\n",
    "    plt.show()\n",
    "\n",
    "\n",
    "else:\n",
    "    print \"outlierCleaner() is returning an empty list, no refitting to be done\""
   ]
  },
  {
   "cell_type": "code",
   "execution_count": 21,
   "metadata": {
    "collapsed": false
   },
   "outputs": [
    {
     "name": "stdout",
     "output_type": "stream",
     "text": [
      "score on test data\n",
      "0.983189455396\n"
     ]
    }
   ],
   "source": [
    "print \"score on test data\"\n",
    "print reg.score(ages_test, net_worths_test)\n"
   ]
  }
 ],
 "metadata": {
  "kernelspec": {
   "display_name": "Python 2",
   "language": "python",
   "name": "python2"
  },
  "language_info": {
   "codemirror_mode": {
    "name": "ipython",
    "version": 2
   },
   "file_extension": ".py",
   "mimetype": "text/x-python",
   "name": "python",
   "nbconvert_exporter": "python",
   "pygments_lexer": "ipython2",
   "version": "2.7.11"
  }
 },
 "nbformat": 4,
 "nbformat_minor": 1
}
